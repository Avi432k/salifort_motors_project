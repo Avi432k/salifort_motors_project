{
 "cells": [
  {
   "cell_type": "markdown",
   "id": "98fd61e1-ac02-4076-abbc-16d318e8095e",
   "metadata": {},
   "source": [
    "# Salifort Motors Data Science Project - Exploratory Data Analysis\n",
    "\n",
    "The HR department at Salifort Motors wants to take some initiatives to improve employee satisfaction levels at the company. They collected data from employees, and they want to analyse this data to build a model that predicts whether or not an employee will leave the company.\n",
    "\n",
    "In the previous notebook, I cleaned the data so I could carry out further analysis on it. In this notebook, I will carry out exploratory data analysis in an attempt to uncover some pattern and trends, insights, as well as inform me on how best to build the model. "
   ]
  },
  {
   "cell_type": "markdown",
   "id": "1397a782-bd7e-4def-8fd8-41224be7052c",
   "metadata": {},
   "source": [
    "### Original Data Source\n",
    "\n",
    "\n",
    "The data was sourced from Kaggle, which can be accessed [here](https://www.kaggle.com/datasets/mfaisalqureshi/hr-analytics-and-job-prediction?select=HR_comma_sep.csv)."
   ]
  },
  {
   "cell_type": "markdown",
   "id": "ef25671f-4660-46cf-b0ce-a0877338014f",
   "metadata": {},
   "source": [
    "### Variable descriptions\n",
    "\n",
    "<img src=\"../images/sm_variables.png\" alt=\"Variables\" width=\"500\">\n",
    "\n",
    "**Note:** The 'left' variable merely represents those who left the company or not, regardless of whether they left by their own accord, or if they were fired. "
   ]
  },
  {
   "cell_type": "code",
   "execution_count": 10,
   "id": "12909313-a55d-4356-a861-ef4e6ffbc050",
   "metadata": {},
   "outputs": [],
   "source": [
    "# Import packages\n",
    "\n",
    "import pandas as pd\n",
    "import numpy as np\n",
    "import matplotlib.pyplot as plt\n",
    "import seaborn as sns"
   ]
  },
  {
   "cell_type": "code",
   "execution_count": 12,
   "id": "9d05c66a-6d8b-45bc-b1df-2639e897410b",
   "metadata": {},
   "outputs": [],
   "source": [
    "# Load dataset\n",
    "\n",
    "df = pd.read_csv('../data/cleaned_sm_data.csv')"
   ]
  },
  {
   "cell_type": "code",
   "execution_count": 14,
   "id": "b4749fcd-740a-48c5-a3a1-65726c1b9176",
   "metadata": {},
   "outputs": [
    {
     "data": {
      "text/html": [
       "<div>\n",
       "<style scoped>\n",
       "    .dataframe tbody tr th:only-of-type {\n",
       "        vertical-align: middle;\n",
       "    }\n",
       "\n",
       "    .dataframe tbody tr th {\n",
       "        vertical-align: top;\n",
       "    }\n",
       "\n",
       "    .dataframe thead th {\n",
       "        text-align: right;\n",
       "    }\n",
       "</style>\n",
       "<table border=\"1\" class=\"dataframe\">\n",
       "  <thead>\n",
       "    <tr style=\"text-align: right;\">\n",
       "      <th></th>\n",
       "      <th>satisfaction_level</th>\n",
       "      <th>last_evaluation</th>\n",
       "      <th>number_project</th>\n",
       "      <th>average_monthly_hours</th>\n",
       "      <th>time_spend_company</th>\n",
       "      <th>work_accident</th>\n",
       "      <th>left</th>\n",
       "      <th>promotion_last_5years</th>\n",
       "      <th>department</th>\n",
       "      <th>salary</th>\n",
       "    </tr>\n",
       "  </thead>\n",
       "  <tbody>\n",
       "    <tr>\n",
       "      <th>0</th>\n",
       "      <td>0.38</td>\n",
       "      <td>0.53</td>\n",
       "      <td>2</td>\n",
       "      <td>157</td>\n",
       "      <td>3</td>\n",
       "      <td>0</td>\n",
       "      <td>1</td>\n",
       "      <td>0</td>\n",
       "      <td>sales</td>\n",
       "      <td>low</td>\n",
       "    </tr>\n",
       "    <tr>\n",
       "      <th>1</th>\n",
       "      <td>0.80</td>\n",
       "      <td>0.86</td>\n",
       "      <td>5</td>\n",
       "      <td>262</td>\n",
       "      <td>6</td>\n",
       "      <td>0</td>\n",
       "      <td>1</td>\n",
       "      <td>0</td>\n",
       "      <td>sales</td>\n",
       "      <td>medium</td>\n",
       "    </tr>\n",
       "    <tr>\n",
       "      <th>2</th>\n",
       "      <td>0.11</td>\n",
       "      <td>0.88</td>\n",
       "      <td>7</td>\n",
       "      <td>272</td>\n",
       "      <td>4</td>\n",
       "      <td>0</td>\n",
       "      <td>1</td>\n",
       "      <td>0</td>\n",
       "      <td>sales</td>\n",
       "      <td>medium</td>\n",
       "    </tr>\n",
       "    <tr>\n",
       "      <th>3</th>\n",
       "      <td>0.72</td>\n",
       "      <td>0.87</td>\n",
       "      <td>5</td>\n",
       "      <td>223</td>\n",
       "      <td>5</td>\n",
       "      <td>0</td>\n",
       "      <td>1</td>\n",
       "      <td>0</td>\n",
       "      <td>sales</td>\n",
       "      <td>low</td>\n",
       "    </tr>\n",
       "    <tr>\n",
       "      <th>4</th>\n",
       "      <td>0.37</td>\n",
       "      <td>0.52</td>\n",
       "      <td>2</td>\n",
       "      <td>159</td>\n",
       "      <td>3</td>\n",
       "      <td>0</td>\n",
       "      <td>1</td>\n",
       "      <td>0</td>\n",
       "      <td>sales</td>\n",
       "      <td>low</td>\n",
       "    </tr>\n",
       "  </tbody>\n",
       "</table>\n",
       "</div>"
      ],
      "text/plain": [
       "   satisfaction_level  last_evaluation  number_project  average_monthly_hours  \\\n",
       "0                0.38             0.53               2                    157   \n",
       "1                0.80             0.86               5                    262   \n",
       "2                0.11             0.88               7                    272   \n",
       "3                0.72             0.87               5                    223   \n",
       "4                0.37             0.52               2                    159   \n",
       "\n",
       "   time_spend_company  work_accident  left  promotion_last_5years department  \\\n",
       "0                   3              0     1                      0      sales   \n",
       "1                   6              0     1                      0      sales   \n",
       "2                   4              0     1                      0      sales   \n",
       "3                   5              0     1                      0      sales   \n",
       "4                   3              0     1                      0      sales   \n",
       "\n",
       "   salary  \n",
       "0     low  \n",
       "1  medium  \n",
       "2  medium  \n",
       "3     low  \n",
       "4     low  "
      ]
     },
     "execution_count": 14,
     "metadata": {},
     "output_type": "execute_result"
    }
   ],
   "source": [
    "df.head()"
   ]
  },
  {
   "cell_type": "markdown",
   "id": "4f4ae111-5c92-4e87-8cb9-428e6d896cef",
   "metadata": {},
   "source": [
    "### Initial hypotheses\n",
    "\n",
    "* Likely variables to be associated with turnover:\n",
    "    * satisfaction level - lower satisfaction - higher turnover\n",
    "    * last evaluation - lower performance score - likely to be fired - higher turnover\n",
    "    * number of projects - too high - likely to burnout - more likely for turnover\n",
    "    * average monthly hours\n",
    "        * Too low - likely fired - turnover\n",
    "        * too high - likely to burnout - turnover\n",
    "    * Time spent at the company - more turnover for low to mid years - those who have stayed for a very long time are likely to be more loyal ~ less turnover\n",
    "    * Work accident - work accident may cause employee to leave\n",
    "    * promotion in last 5 years - no - more turnover\n",
    "    * department - unsure\n",
    "    * salary - low salary = more turnover, high salary = less turnover"
   ]
  },
  {
   "cell_type": "code",
   "execution_count": null,
   "id": "c709756b-b6be-4af7-9076-b81ad0083daf",
   "metadata": {},
   "outputs": [],
   "source": [
    "# My initial questions\n",
    "\n",
    "# Difference between those who left and those who stayed in satisfaction level, last evaluation, average monthly hours.\n",
    "# Association between promotion in last 5 years, and leaving \n",
    "# Association between work accident, and leaving \n",
    "# Association between department and leaving\n",
    "# Association between salary and leaving\n",
    "# relationship between time_spend in company and leaving (left count for each)\n",
    "# relationship between number of projects and leaving (left count for each)\n",
    "# Total number of hours worked (avg monthly * 12 * time spend company)\n",
    "# Number and percentages of those who left vs stayed: overall, and per variable\n",
    "# Those who have worked at the company for 5 years, who have had a promotion\n",
    "# Make separate dataset for those who worked for 5 years.\n",
    "# Association between employees who work on many projects, getting promoted, and leaving\n",
    "# Association between employees who have good evaluation but not getting promoted, and leaving \n",
    "# Association between number of projects, time spent at company, (getting promoted), and leaving\n",
    "\n"
   ]
  },
  {
   "cell_type": "code",
   "execution_count": null,
   "id": "0d831d69-a583-438c-a321-3034cbf3fc0d",
   "metadata": {},
   "outputs": [],
   "source": []
  }
 ],
 "metadata": {
  "kernelspec": {
   "display_name": "Python [conda env:base] *",
   "language": "python",
   "name": "conda-base-py"
  },
  "language_info": {
   "codemirror_mode": {
    "name": "ipython",
    "version": 3
   },
   "file_extension": ".py",
   "mimetype": "text/x-python",
   "name": "python",
   "nbconvert_exporter": "python",
   "pygments_lexer": "ipython3",
   "version": "3.12.7"
  }
 },
 "nbformat": 4,
 "nbformat_minor": 5
}
