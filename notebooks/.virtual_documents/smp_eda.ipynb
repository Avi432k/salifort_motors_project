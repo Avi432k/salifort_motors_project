








# Import packages

import pandas as pd
import numpy as np
import matplotlib.pyplot as plt
import seaborn as sns


# Load dataset

df = pd.read_csv('../data/cleaned_sm_data.csv')


df.head()





# My initial questions

# Difference between those who left and those who stayed in satisfaction level, last evaluation, average monthly hours.
# Association between promotion in last 5 years, and leaving 
# Association between work accident, and leaving 
# Association between department and leaving
# Association between salary and leaving
# relationship between time_spend in company and leaving (left count for each)
# relationship between number of projects and leaving (left count for each)
# Total number of hours worked (avg monthly * 12 * time spend company)
# Number and percentages of those who left vs stayed: overall, and per variable
# Those who have worked at the company for 5 years, who have had a promotion
# Make separate dataset for those who worked for 5 years.
# Association between employees who work on many projects, getting promoted, and leaving
# Association between employees who have good evaluation but not getting promoted, and leaving 
# Association between number of projects, time spent at company, (getting promoted), and leaving





