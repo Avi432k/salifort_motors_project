








# Import packages 

import pandas as pd
import numpy as np
import matplotlib.pyplot as plt
import seaborn as sns


# Load dataset

df0 = pd.read_csv('../data/HR_comma_sep.csv')

df = df0.copy()


df.head()


df.info()


df.describe()


df.columns


# Rename columns

df.rename(columns={'average_montly_hours':'average_monthly_hours', 
                   'Work_accident':'work_accident', 
                   'Department':'department'}, inplace=True)

df.columns


# Check for missing values

df.isna().sum()


# Check for duplicates

df.duplicated().sum()


# Drop duplicates

df.drop_duplicates(inplace=True)


# Check for outliers in data 

num_columns = ['satisfaction_level', 'last_evaluation', 'average_monthly_hours', 'time_spend_company']

fig, axes = plt.subplots(1, 4, figsize=(12, 6))

sns.boxplot(y='satisfaction_level', data=df, ax=axes[0])
axes[0].set_title('Satisfaction Level')

sns.boxplot(y='last_evaluation', data=df, ax=axes[1])
axes[1].set_title('Last Evaluation')

sns.boxplot(y='average_monthly_hours', data=df, ax=axes[2])
axes[2].set_title('Average Monthly Hours')

sns.boxplot(y='time_spend_company', data=df, ax=axes[3])
axes[3].set_title('Time Spent at Company')

plt.tight_layout()
plt.show()


df.to_csv('/Users/avishandilya/Documents/Data_Science/data_science_projects/salifort_motors_project/data/cleaned_sm_data.csv', index=False)



