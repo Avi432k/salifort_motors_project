








# Import packages

import pandas as pd
import numpy as np
import matplotlib.pyplot as plt
import seaborn as sns


# Load dataset

df = pd.read_csv('../data/cleaned_sm_data.csv')


df.shape


df.head()


df.describe()








# Get numbers of people who left vs. stayed
print(df['left'].value_counts())

# Get percentages of people who left vs. stayed
print('')
print(df['left'].value_counts(normalize=True))








df['satisfaction_level'].hist()





df.groupby('left')['satisfaction_level'].median()


plt.figure(figsize = (12, 8))
sns.barplot(x='left', y='satisfaction_level', data=df,  estimator=np.median)
plt.title('Satisfaction level: Employees who stayed vs those who left')
plt.xlabel('Left')
plt.ylabel('Satisfaction level')
plt.show()








df['last_evaluation'].hist()





df.groupby('left')['last_evaluation'].median()


plt.figure(figsize = (12, 8))
sns.barplot(x='left', y='last_evaluation', data=df)
plt.title('Last evaluation: Employees who stayed vs those who left')
plt.xlabel('Left')
plt.ylabel('Last evaluation')
plt.show()








df['number_project'].hist()


print(df['number_project'].value_counts())
print('')
print(df['number_project'].value_counts(normalize=True))
print('')
print(df.groupby('number_project')['left'].value_counts())
print('')
print(df.groupby('number_project')['left'].value_counts(normalize=True))


plt.figure(figsize = (12, 8))
sns.countplot(x='number_project', hue='left', data=df)
plt.title('Number of projects contributed to: Employees who stayed vs those who left')
plt.xlabel('Number of projects')
plt.ylabel('Number of employees')
plt.show()





# Average monthly hours per number of projects

plt.figure(figsize=(12,8))
sns.boxplot(data=df, x='average_monthly_hours', y='number_project', hue='left', orient='h')
plt.gca().invert_yaxis()
plt.title('Average monthly hours per number of projects')
plt.show()


# Performance Score At Last Evaluation Per Number of Projects Contributed To 

plt.figure(figsize=(12,8))
sns.boxplot(data=df, x='last_evaluation', y='number_project', hue='left', orient='h')
plt.gca().invert_yaxis()
plt.title('Performance Score At Last Evaluation Per Number of Projects Contributed To')
plt.show()








df.describe()


df['average_monthly_hours'].hist()





df.groupby('left')['average_monthly_hours'].mean()


plt.figure(figsize = (12, 8))
sns.barplot(x='left', y='average_monthly_hours', data=df)
plt.title('Average monthly hours: Employees who stayed vs those who left')
plt.xlabel('Left')
plt.ylabel('Mean monthly hours')
plt.show()





plt.figure(figsize=(12, 8))
sns.histplot(data=df, x='average_monthly_hours', hue='left', multiple='fill')
plt.title('Leaving rates by average monthly hours')
plt.xlabel('Average monthly hours')
plt.ylabel('Leaving rate')
plt.show()


plt.figure(figsize = (12, 8))
sns.histplot(x='average_monthly_hours', hue='left', data=df)
plt.title('Average monthly hours: Employees who stayed vs those who left')
plt.xlabel('Mean monthly hours')
plt.ylabel('Number of employees')
plt.show()


(df['average_monthly_hours']<125).sum()





#Relationship between average monthly hours and performance at last evaluation among employees who left

plt.figure(figsize=(12, 6))
sns.scatterplot(x='average_monthly_hours', y='last_evaluation', data=df[df['left']==1])
plt.title('Relationship between average monthly hours and performance at last evaluation among employees who left')
plt.xlabel('Average monthly hours')
plt.ylabel('Score at last evaluation')
plt.ylim(0, 1.1)
plt.xlim(120, 320)
plt.yticks(np.arange(0, 1.1, 0.1))
plt.xticks(np.arange(120, 320, 10))
plt.show()





# Create dataframe excluding those who worked less than 170 hours

df_170plus = df[df['average_monthly_hours']>= 170]

df_170plus.to_csv('../data/sm_data_170plus.csv', index=False)





plt.figure(figsize = (12, 8))
sns.countplot(x='number_project', hue='left', data=df_170plus)
plt.title('Number of projects contributed to: Employees who stayed vs those who left')
plt.xlabel('Number of projects')
plt.ylabel('Number of employees')
plt.show()


# Performance Score At Last Evaluation Per Number of Projects Contributed To 

plt.figure(figsize=(12,8))
sns.boxplot(data=df_170plus, x='last_evaluation', y='number_project', hue='left', orient='h')
plt.gca().invert_yaxis()
plt.title('Performance Score At Last Evaluation Per Number of Projects Contributed To')
plt.show()


# Average Monthly Hours Per Number of Projects Contributed To 

plt.figure(figsize=(12,8))
sns.boxplot(data=df_170plus, x='average_monthly_hours', y='number_project', hue='left', orient='h')
plt.gca().invert_yaxis()
plt.title('Average Monthly Hours Per Number of Projects Contributed To')
plt.show()


plt.figure(figsize=(12,8))
sns.boxplot(data=df_170plus, x='average_monthly_hours', y='number_project', orient='h')
plt.gca().invert_yaxis()
plt.title('Average Monthly Hours Per Number of Projects Contributed To')
plt.show()





# Relationship between average monthly hours and last evaluation

plt.figure(figsize=(12,6))
sns.scatterplot(x='average_monthly_hours', y='last_evaluation', data=df_170plus)









df['time_spend_company'].hist()


print(df['time_spend_company'].value_counts())
print('')
print(df['time_spend_company'].value_counts(normalize=True))
print('')
print(df.groupby('time_spend_company')['left'].value_counts())
print('')
print(df.groupby('time_spend_company')['left'].value_counts(normalize=True))


plt.figure(figsize = (12, 8))
sns.countplot(x='time_spend_company', hue='left', data=df)
plt.title('Number of years spent at company: Employees who stayed vs those who left')
plt.xlabel('Number of years')
plt.ylabel('Number of employees')
plt.show()





print(df_170plus['time_spend_company'].value_counts())
print('')
print(df_170plus['time_spend_company'].value_counts(normalize=True))
print('')
print(df_170plus.groupby('time_spend_company')['left'].value_counts())
print('')
print(df_170plus.groupby('time_spend_company')['left'].value_counts(normalize=True))


plt.figure(figsize = (12, 8))
sns.countplot(x='time_spend_company', hue='left', data=df_170plus)
plt.title('Number of years spent at company: Employees who stayed vs those who left')
plt.xlabel('Number of years')
plt.ylabel('Number of employees')
plt.show()





# Creating data frames separated by years spent at company

df_4 = df_170plus[df_170plus['time_spend_company']==4]
df_5 = df_170plus[df_170plus['time_spend_company']==5]
df_6 = df_170plus[df_170plus['time_spend_company']==6]
df_456 = df_170plus[(df_170plus['time_spend_company']<=4) | (df_170plus['time_spend_company']>=6)]


plt.figure(figsize = (12, 8))
sns.countplot(x='number_project', hue='left', data=df_456)
plt.title('Number of projects contributed to: Employees who stayed vs those who left')
plt.xlabel('Number of projects')
plt.ylabel('Number of employees')
plt.show()


# Average Monthly Hours Per Number of Projects Contributed To 

plt.figure(figsize=(12,8))
sns.boxplot(data=df_456, x='average_monthly_hours', y='number_project', hue='left', orient='h')
plt.gca().invert_yaxis()
plt.title('Average Monthly Hours Per Number of Projects Contributed To')
plt.xticks(range(170, 320, 10))
plt.show()


print(df_170plus['left'].value_counts())
print('')
print(df_170plus['left'].value_counts(normalize=True))



df_170plus['satisfaction_level'].hist()


df_170plus.groupby('left')['satisfaction_level'].median()


plt.figure(figsize = (12, 8))
sns.barplot(x='left', y='satisfaction_level', data=df_170plus, estimator=np.median )
plt.title('Satisfaction level: Employees who stayed vs those who left')
plt.xlabel('Left')
plt.ylabel('Satisfaction level')
plt.ylim(0, 1)
plt.show()


plt.figure(figsize=(12,8))
sns.boxplot(data=df, x='left', y='satisfaction_level')
plt.title('Satisfaction level: Employees who stayed vs those who left')
plt.show()





df_170plus.groupby('left')['last_evaluation'].median()


plt.figure(figsize = (12, 8))
sns.barplot(x='left', y='last_evaluation', data=df_170plus, estimator=np.median )
plt.title(' Performance at last evaluation: Employees who stayed vs those who left')
plt.xlabel('Left')
plt.ylabel('Score at last evaluation')
plt.ylim(0, 1)
plt.show()








# Proportion of employees who got promoted

## Everyone who left
print(df['promotion_last_5years'].value_counts())
print('')
print(df['promotion_last_5years'].value_counts(normalize=True))
print('')

## # Those who left voluntarily
print(df_170plus['promotion_last_5years'].value_counts())
print('')
print(df_170plus['promotion_last_5years'].value_counts(normalize=True))





# Everyone who left

print(df.groupby('promotion_last_5years')['left'].value_counts())
print('')
print(df.groupby('promotion_last_5years')['left'].value_counts(normalize=True))



plt.figure(figsize = (12, 8))
sns.barplot(x='promotion_last_5years', y='left', data=df)
plt.title("Proportion of employees who left between those who were promoted in the last 5 years, and those who weren't")
plt.xlabel('Promoted in last 5 years')
plt.ylabel('Proportion of employees who left')
plt.ylim(0, 1)
plt.show()


# Those who left voluntarily

print(df_170plus.groupby('promotion_last_5years')['left'].value_counts())
print('')
print(df_170plus.groupby('promotion_last_5years')['left'].value_counts(normalize=True))


plt.figure(figsize = (12, 8))
sns.barplot(x='promotion_last_5years', y='left', data=df_170plus)
plt.title("Proportion of employees who left between those who were promoted in the last 5 years, and those who weren't")
plt.xlabel('Promoted in last 5 years')
plt.ylabel('Proportion of employees who left')
plt.ylim(0, 1)
plt.show()





# Average hours per month and promoted in last 5 years grouped by left

plt.figure(figsize=(12,8))
sns.boxplot(data=df, x='average_monthly_hours', y='promotion_last_5years', hue='left', orient='h')
plt.gca().invert_yaxis()
plt.title('Average monthly hours and turnover: promoted vs not')
plt.show()


# Average hours per month and promoted in last 5 years grouped by left

plt.figure(figsize=(12,8))
sns.boxplot(data=df_170plus, x='average_monthly_hours', y='promotion_last_5years', hue='left', orient='h')
plt.gca().invert_yaxis()
plt.title('Average monthly hours and turnover: promoted vs not')
plt.show()


# Average hours per month and promoted in last 5 years grouped by left

plt.figure(figsize=(12,8))
sns.boxplot(data=df_170plus, x='last_evaluation', y='promotion_last_5years', hue='left', orient='h')
plt.gca().invert_yaxis()
plt.title('Performance at last evaluation and turnover: promoted vs not')
plt.show()








# Proportion of employees per salary level

## Everyone who left
print(df['salary'].value_counts())
print('')
print(df['salary'].value_counts(normalize=True))
print('')



## # Those who left voluntarily
print(df_170plus['salary'].value_counts())
print('')
print(df_170plus['salary'].value_counts(normalize=True))


# Everyone who left

print(df.groupby('salary')['left'].value_counts())
print('')
print(df.groupby('salary')['left'].value_counts(normalize=True))


plt.figure(figsize = (12, 8))
sns.barplot(x='salary', y='left', data=df)
plt.title("Proportion of employees who left per salary level")
plt.xlabel('Salary level')
plt.ylabel('Proportion of employees who left')
plt.ylim(0, 1)
plt.show()


# Those who left voluntarily

print(df_170plus.groupby('salary')['left'].value_counts())
print('')
print(df_170plus.groupby('salary')['left'].value_counts(normalize=True))


plt.figure(figsize = (12, 8))
sns.barplot(x='salary', y='left', data=df_170plus)
plt.title("Proportion of employees who left per salary level")
plt.xlabel('Salary level')
plt.ylabel('Proportion of employees who left')
plt.ylim(0, 1)
plt.show()


# Average hours per month and salary level grouped by left

plt.figure(figsize=(12,8))
sns.boxplot(data=df, x='average_monthly_hours', y='salary', hue='left', orient='h')
plt.gca().invert_yaxis()
plt.title('Average monthly hours and turnover: Salary level')
plt.show()



# Average hours per month and salary level grouped by left

plt.figure(figsize=(12,8))
sns.boxplot(data=df_170plus, x='average_monthly_hours', y='salary', hue='left', orient='h', order=['low', 'medium', 'high'])
plt.gca().invert_yaxis()
plt.title('Average monthly hours and turnover: Salary level')
plt.show()








print(df['work_accident'].value_counts())
print('')
print(df['work_accident'].value_counts(normalize=True))


print(df_170plus.groupby('work_accident')['left'].value_counts())
print('')
print(df_170plus.groupby('work_accident')['left'].value_counts(normalize=True))


plt.figure(figsize = (12, 8))
sns.countplot(x='work_accident', hue='left', data=df_170plus)
plt.title('Work accident: Employees who stayed vs those who left')
plt.xlabel('Work accident')
plt.ylabel('Number of employees')
plt.show()





df.head()





# Association between department and leaving

print(df['department'].value_counts())
print('')
print(df['department'].value_counts(normalize=True))
print('')
print(df.groupby('department')['left'].value_counts())
print('')
print(df.groupby('department')['left'].value_counts(normalize=True))


print(df_170plus['department'].value_counts())
print('')
print(df_170plus['department'].value_counts(normalize=True))
print('')
print(df_170plus.groupby('department')['left'].value_counts())
print('')
print(df_170plus.groupby('department')['left'].value_counts(normalize=True))


plt.figure(figsize = (12, 8))
sns.countplot(x='department', hue='left', data=df_170plus)
plt.title('Department: Employees who stayed vs those who left')
plt.xlabel('Department')
plt.ylabel('Number of employees')
plt.show()









